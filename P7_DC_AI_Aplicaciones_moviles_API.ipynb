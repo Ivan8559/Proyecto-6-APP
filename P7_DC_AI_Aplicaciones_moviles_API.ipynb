{
 "cells": [
  {
   "cell_type": "code",
   "execution_count": 1,
   "metadata": {
    "id": "HPn6zvuhNKm9"
   },
   "outputs": [],
   "source": [
    "#Se importan las librerias, son nesesarias para poder hacer correr el codigo\n",
    "import pandas as pd\n",
    "import matplotlib.pyplot as plt\n",
    "import numpy as np"
   ]
  },
  {
   "cell_type": "code",
   "execution_count": 2,
   "metadata": {
    "id": "TgXB4vt6g413"
   },
   "outputs": [],
   "source": [
    "from tabulate import tabulate\n",
    "from sklearn.preprocessing import LabelEncoder\n",
    "from sklearn.metrics import mean_squared_error, mean_absolute_error, r2_score\n",
    "from sklearn.preprocessing import StandardScaler\n",
    "from sklearn.linear_model import LinearRegression\n",
    "from sklearn.model_selection import train_test_split\n",
    "from sklearn.metrics import rand_score"
   ]
  },
  {
   "cell_type": "code",
   "execution_count": 3,
   "metadata": {
    "id": "6XKzthMJNQdV"
   },
   "outputs": [],
   "source": [
    "df = pd.read_csv(r\"C:\\Users\\Ivan\\Downloads\\archiveAPP\\googleplaystore.csv\")"
   ]
  },
  {
   "cell_type": "code",
   "execution_count": 4,
   "metadata": {
    "colab": {
     "base_uri": "https://localhost:8080/",
     "height": 206
    },
    "id": "YIk94loWNSgU",
    "outputId": "12a78bb9-8f5c-484b-a9bf-7bfd6f026e08"
   },
   "outputs": [
    {
     "data": {
      "text/html": [
       "<div>\n",
       "<style scoped>\n",
       "    .dataframe tbody tr th:only-of-type {\n",
       "        vertical-align: middle;\n",
       "    }\n",
       "\n",
       "    .dataframe tbody tr th {\n",
       "        vertical-align: top;\n",
       "    }\n",
       "\n",
       "    .dataframe thead th {\n",
       "        text-align: right;\n",
       "    }\n",
       "</style>\n",
       "<table border=\"1\" class=\"dataframe\">\n",
       "  <thead>\n",
       "    <tr style=\"text-align: right;\">\n",
       "      <th></th>\n",
       "      <th>App</th>\n",
       "      <th>Category</th>\n",
       "      <th>Rating</th>\n",
       "      <th>Reviews</th>\n",
       "      <th>Size</th>\n",
       "      <th>Installs</th>\n",
       "      <th>Type</th>\n",
       "      <th>Price</th>\n",
       "      <th>Content Rating</th>\n",
       "      <th>Genres</th>\n",
       "      <th>Last Updated</th>\n",
       "      <th>Current Ver</th>\n",
       "      <th>Android Ver</th>\n",
       "    </tr>\n",
       "  </thead>\n",
       "  <tbody>\n",
       "    <tr>\n",
       "      <th>0</th>\n",
       "      <td>Photo Editor &amp; Candy Camera &amp; Grid &amp; ScrapBook</td>\n",
       "      <td>ART_AND_DESIGN</td>\n",
       "      <td>4.1</td>\n",
       "      <td>159</td>\n",
       "      <td>19M</td>\n",
       "      <td>10,000+</td>\n",
       "      <td>Free</td>\n",
       "      <td>0</td>\n",
       "      <td>Everyone</td>\n",
       "      <td>Art &amp; Design</td>\n",
       "      <td>January 7, 2018</td>\n",
       "      <td>1.0.0</td>\n",
       "      <td>4.0.3 and up</td>\n",
       "    </tr>\n",
       "    <tr>\n",
       "      <th>1</th>\n",
       "      <td>Coloring book moana</td>\n",
       "      <td>ART_AND_DESIGN</td>\n",
       "      <td>3.9</td>\n",
       "      <td>967</td>\n",
       "      <td>14M</td>\n",
       "      <td>500,000+</td>\n",
       "      <td>Free</td>\n",
       "      <td>0</td>\n",
       "      <td>Everyone</td>\n",
       "      <td>Art &amp; Design;Pretend Play</td>\n",
       "      <td>January 15, 2018</td>\n",
       "      <td>2.0.0</td>\n",
       "      <td>4.0.3 and up</td>\n",
       "    </tr>\n",
       "    <tr>\n",
       "      <th>2</th>\n",
       "      <td>U Launcher Lite – FREE Live Cool Themes, Hide ...</td>\n",
       "      <td>ART_AND_DESIGN</td>\n",
       "      <td>4.7</td>\n",
       "      <td>87510</td>\n",
       "      <td>8.7M</td>\n",
       "      <td>5,000,000+</td>\n",
       "      <td>Free</td>\n",
       "      <td>0</td>\n",
       "      <td>Everyone</td>\n",
       "      <td>Art &amp; Design</td>\n",
       "      <td>August 1, 2018</td>\n",
       "      <td>1.2.4</td>\n",
       "      <td>4.0.3 and up</td>\n",
       "    </tr>\n",
       "    <tr>\n",
       "      <th>3</th>\n",
       "      <td>Sketch - Draw &amp; Paint</td>\n",
       "      <td>ART_AND_DESIGN</td>\n",
       "      <td>4.5</td>\n",
       "      <td>215644</td>\n",
       "      <td>25M</td>\n",
       "      <td>50,000,000+</td>\n",
       "      <td>Free</td>\n",
       "      <td>0</td>\n",
       "      <td>Teen</td>\n",
       "      <td>Art &amp; Design</td>\n",
       "      <td>June 8, 2018</td>\n",
       "      <td>Varies with device</td>\n",
       "      <td>4.2 and up</td>\n",
       "    </tr>\n",
       "    <tr>\n",
       "      <th>4</th>\n",
       "      <td>Pixel Draw - Number Art Coloring Book</td>\n",
       "      <td>ART_AND_DESIGN</td>\n",
       "      <td>4.3</td>\n",
       "      <td>967</td>\n",
       "      <td>2.8M</td>\n",
       "      <td>100,000+</td>\n",
       "      <td>Free</td>\n",
       "      <td>0</td>\n",
       "      <td>Everyone</td>\n",
       "      <td>Art &amp; Design;Creativity</td>\n",
       "      <td>June 20, 2018</td>\n",
       "      <td>1.1</td>\n",
       "      <td>4.4 and up</td>\n",
       "    </tr>\n",
       "  </tbody>\n",
       "</table>\n",
       "</div>"
      ],
      "text/plain": [
       "                                                 App        Category  Rating  \\\n",
       "0     Photo Editor & Candy Camera & Grid & ScrapBook  ART_AND_DESIGN     4.1   \n",
       "1                                Coloring book moana  ART_AND_DESIGN     3.9   \n",
       "2  U Launcher Lite – FREE Live Cool Themes, Hide ...  ART_AND_DESIGN     4.7   \n",
       "3                              Sketch - Draw & Paint  ART_AND_DESIGN     4.5   \n",
       "4              Pixel Draw - Number Art Coloring Book  ART_AND_DESIGN     4.3   \n",
       "\n",
       "  Reviews  Size     Installs  Type Price Content Rating  \\\n",
       "0     159   19M      10,000+  Free     0       Everyone   \n",
       "1     967   14M     500,000+  Free     0       Everyone   \n",
       "2   87510  8.7M   5,000,000+  Free     0       Everyone   \n",
       "3  215644   25M  50,000,000+  Free     0           Teen   \n",
       "4     967  2.8M     100,000+  Free     0       Everyone   \n",
       "\n",
       "                      Genres      Last Updated         Current Ver  \\\n",
       "0               Art & Design   January 7, 2018               1.0.0   \n",
       "1  Art & Design;Pretend Play  January 15, 2018               2.0.0   \n",
       "2               Art & Design    August 1, 2018               1.2.4   \n",
       "3               Art & Design      June 8, 2018  Varies with device   \n",
       "4    Art & Design;Creativity     June 20, 2018                 1.1   \n",
       "\n",
       "    Android Ver  \n",
       "0  4.0.3 and up  \n",
       "1  4.0.3 and up  \n",
       "2  4.0.3 and up  \n",
       "3    4.2 and up  \n",
       "4    4.4 and up  "
      ]
     },
     "execution_count": 4,
     "metadata": {},
     "output_type": "execute_result"
    }
   ],
   "source": [
    "#Análisis exploratorio, toda informacion referente a los datos obtenidos que sea valiosa\n",
    "df.head(5) #Mostramos la informacion"
   ]
  },
  {
   "cell_type": "code",
   "execution_count": 5,
   "metadata": {
    "colab": {
     "base_uri": "https://localhost:8080/"
    },
    "id": "PcWBQOHO_X_8",
    "outputId": "e1191b14-261d-45bf-9c43-fa5509524684"
   },
   "outputs": [
    {
     "name": "stdout",
     "output_type": "stream",
     "text": [
      "<class 'pandas.core.frame.DataFrame'>\n",
      "RangeIndex: 10841 entries, 0 to 10840\n",
      "Data columns (total 13 columns):\n",
      " #   Column          Non-Null Count  Dtype  \n",
      "---  ------          --------------  -----  \n",
      " 0   App             10841 non-null  object \n",
      " 1   Category        10841 non-null  object \n",
      " 2   Rating          9367 non-null   float64\n",
      " 3   Reviews         10841 non-null  object \n",
      " 4   Size            10841 non-null  object \n",
      " 5   Installs        10841 non-null  object \n",
      " 6   Type            10840 non-null  object \n",
      " 7   Price           10841 non-null  object \n",
      " 8   Content Rating  10840 non-null  object \n",
      " 9   Genres          10841 non-null  object \n",
      " 10  Last Updated    10841 non-null  object \n",
      " 11  Current Ver     10833 non-null  object \n",
      " 12  Android Ver     10838 non-null  object \n",
      "dtypes: float64(1), object(12)\n",
      "memory usage: 1.1+ MB\n"
     ]
    }
   ],
   "source": [
    "df.info() #Vemos informacion relacionada a las columnas"
   ]
  },
  {
   "cell_type": "code",
   "execution_count": 6,
   "metadata": {
    "id": "M5xLJWNiU09O"
   },
   "outputs": [],
   "source": [
    "df = df.drop([\"Last Updated\",\"Current Ver\",\"Android Ver\",\"Price\",\"Reviews\",\"Size\",\"App\",\"Installs\"], axis = 1) #Eliminamos columnas que no son necesarias, no aportan datos utiles"
   ]
  },
  {
   "cell_type": "code",
   "execution_count": 7,
   "metadata": {
    "id": "N_yJhTt3Vj0u"
   },
   "outputs": [],
   "source": [
    "col_to_move = 'Rating' #Moveremos la columna mas relevante para que sea mas comodo mover los datos\n",
    "\n",
    "# Extraer la columna\n",
    "col = df.pop(col_to_move)\n",
    "\n",
    "# Añadir la columna al final\n",
    "df[col_to_move] = col"
   ]
  },
  {
   "cell_type": "code",
   "execution_count": 8,
   "metadata": {
    "colab": {
     "base_uri": "https://localhost:8080/",
     "height": 206
    },
    "id": "bcE34CPTVj0u",
    "outputId": "8afc243e-0f2b-429f-dabb-bec9fbec90ee"
   },
   "outputs": [
    {
     "data": {
      "text/html": [
       "<div>\n",
       "<style scoped>\n",
       "    .dataframe tbody tr th:only-of-type {\n",
       "        vertical-align: middle;\n",
       "    }\n",
       "\n",
       "    .dataframe tbody tr th {\n",
       "        vertical-align: top;\n",
       "    }\n",
       "\n",
       "    .dataframe thead th {\n",
       "        text-align: right;\n",
       "    }\n",
       "</style>\n",
       "<table border=\"1\" class=\"dataframe\">\n",
       "  <thead>\n",
       "    <tr style=\"text-align: right;\">\n",
       "      <th></th>\n",
       "      <th>Category</th>\n",
       "      <th>Type</th>\n",
       "      <th>Content Rating</th>\n",
       "      <th>Genres</th>\n",
       "      <th>Rating</th>\n",
       "    </tr>\n",
       "  </thead>\n",
       "  <tbody>\n",
       "    <tr>\n",
       "      <th>0</th>\n",
       "      <td>ART_AND_DESIGN</td>\n",
       "      <td>Free</td>\n",
       "      <td>Everyone</td>\n",
       "      <td>Art &amp; Design</td>\n",
       "      <td>4.1</td>\n",
       "    </tr>\n",
       "    <tr>\n",
       "      <th>1</th>\n",
       "      <td>ART_AND_DESIGN</td>\n",
       "      <td>Free</td>\n",
       "      <td>Everyone</td>\n",
       "      <td>Art &amp; Design;Pretend Play</td>\n",
       "      <td>3.9</td>\n",
       "    </tr>\n",
       "    <tr>\n",
       "      <th>2</th>\n",
       "      <td>ART_AND_DESIGN</td>\n",
       "      <td>Free</td>\n",
       "      <td>Everyone</td>\n",
       "      <td>Art &amp; Design</td>\n",
       "      <td>4.7</td>\n",
       "    </tr>\n",
       "    <tr>\n",
       "      <th>3</th>\n",
       "      <td>ART_AND_DESIGN</td>\n",
       "      <td>Free</td>\n",
       "      <td>Teen</td>\n",
       "      <td>Art &amp; Design</td>\n",
       "      <td>4.5</td>\n",
       "    </tr>\n",
       "    <tr>\n",
       "      <th>4</th>\n",
       "      <td>ART_AND_DESIGN</td>\n",
       "      <td>Free</td>\n",
       "      <td>Everyone</td>\n",
       "      <td>Art &amp; Design;Creativity</td>\n",
       "      <td>4.3</td>\n",
       "    </tr>\n",
       "  </tbody>\n",
       "</table>\n",
       "</div>"
      ],
      "text/plain": [
       "         Category  Type Content Rating                     Genres  Rating\n",
       "0  ART_AND_DESIGN  Free       Everyone               Art & Design     4.1\n",
       "1  ART_AND_DESIGN  Free       Everyone  Art & Design;Pretend Play     3.9\n",
       "2  ART_AND_DESIGN  Free       Everyone               Art & Design     4.7\n",
       "3  ART_AND_DESIGN  Free           Teen               Art & Design     4.5\n",
       "4  ART_AND_DESIGN  Free       Everyone    Art & Design;Creativity     4.3"
      ]
     },
     "execution_count": 8,
     "metadata": {},
     "output_type": "execute_result"
    }
   ],
   "source": [
    "df.head()"
   ]
  },
  {
   "cell_type": "code",
   "execution_count": 9,
   "metadata": {
    "colab": {
     "base_uri": "https://localhost:8080/"
    },
    "id": "Eq8quhzl_S1N",
    "outputId": "3e741b24-2fa0-47c9-8b5a-d0b5c8743b5c"
   },
   "outputs": [
    {
     "name": "stdout",
     "output_type": "stream",
     "text": [
      "La completitud de los datos es del 97.27700396642378 %\n"
     ]
    }
   ],
   "source": [
    "Completitud = ((df.notnull().sum() / len(df))*100).mean()\n",
    "print(\"La completitud de los datos es del\", Completitud, \"%\")"
   ]
  },
  {
   "cell_type": "code",
   "execution_count": 10,
   "metadata": {
    "colab": {
     "base_uri": "https://localhost:8080/"
    },
    "id": "Gc9_VHi3_S1N",
    "outputId": "15ef44c2-ed42-45af-cc88-184b1680276a"
   },
   "outputs": [
    {
     "name": "stdout",
     "output_type": "stream",
     "text": [
      "Columna           Valores faltantes  Porcentaje de valores faltantes\n",
      "--------------  -------------------  ---------------------------------\n",
      "Type                              1  0.01%\n",
      "Content Rating                    1  0.01%\n",
      "Rating                         1474  13.60%\n"
     ]
    }
   ],
   "source": [
    "# Crear una lista vacía para contener los resultados\n",
    "resultados = []\n",
    "\n",
    "# Iterar sobre las columnas del DataFrame\n",
    "for column in df.columns:\n",
    "    if df[column].isna().sum() != 0:\n",
    "        missing = df[column].isna().sum()\n",
    "        portion = (missing / df.shape[0]) * 100\n",
    "        # Agregar los resultados formateados a la lista\n",
    "        resultados.append([column, missing, f\"{portion:.2f}%\"])\n",
    "\n",
    "# Ordenar los resultados en orden ascendente según el número de valores faltantes\n",
    "resultados_ordenados = sorted(resultados, key=lambda x: x[1])\n",
    "\n",
    "# Imprimir los resultados\n",
    "print(tabulate(resultados_ordenados, headers=[\"Columna\", \"Valores faltantes\", \"Porcentaje de valores faltantes\"]))"
   ]
  },
  {
   "cell_type": "code",
   "execution_count": 11,
   "metadata": {
    "id": "w6ZLliPj_S1N"
   },
   "outputs": [],
   "source": [
    "df = df.dropna() #Eliminamos los datos faltantes"
   ]
  },
  {
   "cell_type": "code",
   "execution_count": 12,
   "metadata": {
    "colab": {
     "base_uri": "https://localhost:8080/"
    },
    "id": "B-QO0UjN_S1N",
    "outputId": "1ec3fcb7-3c03-4136-b923-706142747dde"
   },
   "outputs": [
    {
     "name": "stdout",
     "output_type": "stream",
     "text": [
      "La completitud de los datos es del 100.0 %\n"
     ]
    }
   ],
   "source": [
    "Completitud = ((df.notnull().sum() / len(df))*100).mean() #Vemos nuevamente la completitud de los datos\n",
    "print(\"La completitud de los datos es del\", Completitud, \"%\")"
   ]
  },
  {
   "cell_type": "code",
   "execution_count": 13,
   "metadata": {
    "colab": {
     "base_uri": "https://localhost:8080/",
     "height": 619
    },
    "id": "18CDVhZF2TJw",
    "outputId": "97a2d2fb-fcad-4a59-d34e-aefd3fc27007"
   },
   "outputs": [
    {
     "data": {
      "image/png": "[encoded data removed]",
      "text/plain": [
       "<Figure size 500x300 with 1 Axes>"
      ]
     },
     "metadata": {},
     "output_type": "display_data"
    },
    {
     "data": {
      "text/plain": [
       "count    9366.000000\n",
       "mean        4.191757\n",
       "std         0.515219\n",
       "min         1.000000\n",
       "25%         4.000000\n",
       "50%         4.300000\n",
       "75%         4.500000\n",
       "max         5.000000\n",
       "Name: Rating, dtype: float64"
      ]
     },
     "execution_count": 13,
     "metadata": {},
     "output_type": "execute_result"
    }
   ],
   "source": [
    "# Estadísticas descriptivas\n",
    "descriptivas = df['Rating'].describe()\n",
    "\n",
    "# Histogramas para las características numéricas\n",
    "plt.figure(figsize=(5,3))\n",
    "# Histograma de las calificaciones\n",
    "plt.hist(df['Rating'], color='skyblue', edgecolor='black', bins=20)\n",
    "plt.title('Distribución de Calificaciones para Aplicaciones')\n",
    "plt.xlabel('Rating (Estrellas)')\n",
    "plt.ylabel('Frecuencia')\n",
    "\n",
    "plt.tight_layout()\n",
    "plt.show()\n",
    "\n",
    "# Descripcion del grafico\n",
    "descriptivas"
   ]
  },
  {
   "cell_type": "code",
   "execution_count": 14,
   "metadata": {
    "colab": {
     "base_uri": "https://localhost:8080/",
     "height": 1000
    },
    "id": "FKn9ZybE1nux",
    "outputId": "f6f63f98-7ab9-4a97-a538-34ea6f856cdf"
   },
   "outputs": [
    {
     "data": {
      "text/plain": [
       "Category\n",
       "ART_AND_DESIGN         4.36\n",
       "AUTO_AND_VEHICLES      4.19\n",
       "BEAUTY                 4.28\n",
       "BOOKS_AND_REFERENCE    4.35\n",
       "BUSINESS               4.12\n",
       "COMICS                 4.16\n",
       "COMMUNICATION          4.16\n",
       "DATING                 3.97\n",
       "EDUCATION              4.39\n",
       "ENTERTAINMENT          4.13\n",
       "EVENTS                 4.44\n",
       "FAMILY                 4.19\n",
       "FINANCE                4.13\n",
       "FOOD_AND_DRINK         4.17\n",
       "GAME                   4.29\n",
       "HEALTH_AND_FITNESS     4.28\n",
       "HOUSE_AND_HOME         4.20\n",
       "LIBRARIES_AND_DEMO     4.18\n",
       "LIFESTYLE              4.09\n",
       "MAPS_AND_NAVIGATION    4.05\n",
       "MEDICAL                4.19\n",
       "NEWS_AND_MAGAZINES     4.13\n",
       "PARENTING              4.30\n",
       "PERSONALIZATION        4.34\n",
       "PHOTOGRAPHY            4.19\n",
       "PRODUCTIVITY           4.21\n",
       "SHOPPING               4.26\n",
       "SOCIAL                 4.26\n",
       "SPORTS                 4.22\n",
       "TOOLS                  4.05\n",
       "TRAVEL_AND_LOCAL       4.11\n",
       "VIDEO_PLAYERS          4.06\n",
       "WEATHER                4.24\n",
       "Name: Rating, dtype: float64"
      ]
     },
     "execution_count": 14,
     "metadata": {},
     "output_type": "execute_result"
    }
   ],
   "source": [
    "df.groupby(\"Category\")[\"Rating\"].mean().round(2) #Muestra el promedio de estrellas de cada categoria de las aplicacion"
   ]
  },
  {
   "cell_type": "code",
   "execution_count": 15,
   "metadata": {
    "colab": {
     "base_uri": "https://localhost:8080/"
    },
    "id": "_fRTbHKj85Bj",
    "outputId": "1d89821c-7d2a-495e-dc45-087504b191f6"
   },
   "outputs": [
    {
     "name": "stdout",
     "output_type": "stream",
     "text": [
      "La Categoria con menos puntuacion es la de DATING / CITAS con un promedio de 4.0 Estrellas\n"
     ]
    }
   ],
   "source": [
    "mean_ratings = df.groupby('Category')['Rating'].mean()\n",
    "category = mean_ratings.idxmin()\n",
    "min_value = mean_ratings.min()\n",
    "valor_formateado = f'{min_value:.1f}'\n",
    "print(\"La Categoria con menos puntuacion es la de\", category , \"/ CITAS con un promedio de\", valor_formateado, \"Estrellas\")"
   ]
  },
  {
   "cell_type": "code",
   "execution_count": 16,
   "metadata": {
    "colab": {
     "base_uri": "https://localhost:8080/"
    },
    "id": "-AopMP8b7eeD",
    "outputId": "34d43d24-96b0-427c-fff0-b3092459a86d"
   },
   "outputs": [
    {
     "name": "stdout",
     "output_type": "stream",
     "text": [
      "La Categoria con mayor puntuacion es la de EVENTS / EVENTOS con un promedio de 4.4 Estrellas\n"
     ]
    }
   ],
   "source": [
    "mean_ratings = df.groupby('Category')['Rating'].mean()\n",
    "category = mean_ratings.idxmax()\n",
    "max_value = mean_ratings.max()\n",
    "valor_formateado = f'{max_value:.1f}'\n",
    "print(\"La Categoria con mayor puntuacion es la de\", category , \"/ EVENTOS con un promedio de\", valor_formateado, \"Estrellas\")"
   ]
  },
  {
   "cell_type": "code",
   "execution_count": 17,
   "metadata": {
    "colab": {
     "base_uri": "https://localhost:8080/",
     "height": 442
    },
    "id": "7NJb08zE5vsq",
    "outputId": "c463ff4d-947d-43d7-b437-6082ed3eae71"
   },
   "outputs": [
    {
     "data": {
      "image/png": "[encoded data removed]",
      "text/plain": [
       "<Figure size 1000x500 with 1 Axes>"
      ]
     },
     "metadata": {},
     "output_type": "display_data"
    }
   ],
   "source": [
    "values = df[\"Type\"].value_counts() #Generamos un grafico compativo de la columna que muestra el tipo de aplicacion, si es de paga o gratis\n",
    "labels = [\"Gratis\", \"De Pago\"]\n",
    "colors = [\"#87CEEB\", \"#FFA500\"] #Colores\n",
    "\n",
    "plt.figure(figsize=(10, 5)) # Tamaño del gráfico\n",
    "plt.pie(values, labels=labels,colors=colors, autopct='%1.1f%%') # Mostrar porcentajes en el gráfico\n",
    "plt.title(\"Comparativa Aplicaciones de Paga\")\n",
    "plt.legend(title=\"Tipo de Aplicación\")\n",
    "plt.show()"
   ]
  },
  {
   "cell_type": "code",
   "execution_count": 18,
   "metadata": {
    "colab": {
     "base_uri": "https://localhost:8080/"
    },
    "id": "sJ76BLpgjdLY",
    "outputId": "58dd9749-7f33-457c-97d1-3cc4cf4aa011"
   },
   "outputs": [
    {
     "data": {
      "text/plain": [
       "array(['Everyone', 'Teen', 'Everyone 10+', 'Mature 17+',\n",
       "       'Adults only 18+', 'Unrated'], dtype=object)"
      ]
     },
     "execution_count": 18,
     "metadata": {},
     "output_type": "execute_result"
    }
   ],
   "source": [
    "df[\"Content Rating\"].unique() #Vemos las clasificaciones posibles para las aplicaciones"
   ]
  },
  {
   "cell_type": "code",
   "execution_count": 64,
   "metadata": {
    "id": "NuC17VmQCmkd"
   },
   "outputs": [],
   "source": [
    "#Transformacion de los datos, esto se hace con el fin de que el ordenador pueda entender nuestros datos, asi como nosotros leemos las palabras"
   ]
  },
  {
   "cell_type": "code",
   "execution_count": 19,
   "metadata": {
    "id": "mu4A1wD59IWm"
   },
   "outputs": [],
   "source": [
    "label_encoder = LabelEncoder()\n",
    "\n",
    "for col in df.columns:\n",
    "    if df[col].dtype == 'object':\n",
    "        label_encoder.fit_transform(list(df[col].values))\n",
    "        df[col] = label_encoder.transform(df[col].values)"
   ]
  },
  {
   "cell_type": "code",
   "execution_count": 20,
   "metadata": {
    "id": "duQ8-RdnkE8o"
   },
   "outputs": [],
   "source": [
    "data = pd.get_dummies(data=df, columns=[\"Type\"])"
   ]
  },
  {
   "cell_type": "code",
   "execution_count": 21,
   "metadata": {
    "id": "DdSib3NZI6Dw"
   },
   "outputs": [],
   "source": [
    "array = df.values # Separamos nuestros datos, existe una columna que depende del resto de datos por eso la separamos, en este caso es la columna \"Rating\" que nos muestra las estrellas de la aplicacion\n",
    "X = df.iloc[:, :-1]  # Todas las columnas menos la última\n",
    "y = df.iloc[:, -1]   # Solo la última columna"
   ]
  },
  {
   "cell_type": "code",
   "execution_count": 22,
   "metadata": {
    "colab": {
     "base_uri": "https://localhost:8080/"
    },
    "id": "Cj-yz2bh_-G8",
    "outputId": "133cc47d-c7e3-4b32-ace1-b2e2ada417ee"
   },
   "outputs": [
    {
     "data": {
      "text/plain": [
       "((9366,), (9366, 4))"
      ]
     },
     "execution_count": 22,
     "metadata": {},
     "output_type": "execute_result"
    }
   ],
   "source": [
    "y.shape, X.shape #Observamos las dimensiones de los datos"
   ]
  },
  {
   "cell_type": "code",
   "execution_count": 23,
   "metadata": {
    "colab": {
     "base_uri": "https://localhost:8080/"
    },
    "id": "S3IpdP6VF3RP",
    "outputId": "427d3c98-c8f5-49bf-d491-e2c1f8c72cc8"
   },
   "outputs": [
    {
     "name": "stdout",
     "output_type": "stream",
     "text": [
      "2341 2341\n",
      "7025 7025\n"
     ]
    }
   ],
   "source": [
    "#Se Divide los datos en entrenamiento y validación, todo esto se hace para que podamos hacer predicciones a futuro\n",
    "X_train, X_test, y_train, y_test = train_test_split(X, y, test_size=0.75, random_state=1)\n",
    "\n",
    "# Verificamos las dimensiones después de la división\n",
    "print(X_train.shape[0], y_train.shape[0])\n",
    "print(X_test.shape[0], y_test.shape[0])"
   ]
  },
  {
   "cell_type": "code",
   "execution_count": 24,
   "metadata": {
    "colab": {
     "base_uri": "https://localhost:8080/"
    },
    "id": "p69Z9oDSF-bA",
    "outputId": "4619c3a7-096e-462b-872e-fb827f3d5c74"
   },
   "outputs": [
    {
     "name": "stdout",
     "output_type": "stream",
     "text": [
      "Mean Squared Error: 0.26\n"
     ]
    }
   ],
   "source": [
    "# Creamos y ajustarmos el modelo del proyecto, existen distintos tipos de modelos, para este proyecto se ajusta bien uno llamado \"regresión lineal\" que a continuacion configuraremos para utilizarlo\n",
    "# Esto se llama \"Entrenar el modelo\"\n",
    "model = LinearRegression()\n",
    "model.fit(X_train, y_train)\n",
    "\n",
    "# Hacer predicciones\n",
    "y_pred = model.predict(X_test)\n",
    "\n",
    "# Evaluar el rendimiento del modelo\n",
    "mse = mean_squared_error(y_test, y_pred)\n",
    "print(f'Mean Squared Error: {mse:.2f}')\n"
   ]
  },
  {
   "cell_type": "code",
   "execution_count": 25,
   "metadata": {
    "colab": {
     "base_uri": "https://localhost:8080/"
    },
    "id": "rppM95bwlKHz",
    "outputId": "2f4300e9-5983-4680-d780-f2c2b91a11f8"
   },
   "outputs": [
    {
     "name": "stdout",
     "output_type": "stream",
     "text": [
      "Error Cuadrático Medio (MSE): 0.2639210699374361\n",
      "Raíz del Error Cuadrático Medio (RMSE): 0.5137324886917666\n",
      "Error Absoluto Medio (MAE): 0.36024451611309727\n",
      "Coeficiente de Determinación (R²): 0.003223877493056304\n"
     ]
    }
   ],
   "source": [
    "#Metricas para medir errores dentro del modelo\n",
    "mse = mean_squared_error(y_test, y_pred)\n",
    "rmse = np.sqrt(mse)\n",
    "mae = mean_absolute_error(y_test, y_pred)\n",
    "r2 = r2_score(y_test, y_pred)\n",
    "\n",
    "print(f'Error Cuadrático Medio (MSE): {mse}')\n",
    "print(f'Raíz del Error Cuadrático Medio (RMSE): {rmse}')\n",
    "print(f'Error Absoluto Medio (MAE): {mae}')\n",
    "print(f'Coeficiente de Determinación (R²): {r2}')"
   ]
  },
  {
   "cell_type": "code",
   "execution_count": 26,
   "metadata": {
    "colab": {
     "base_uri": "https://localhost:8080/"
    },
    "id": "5j8-J2fZjTJj",
    "outputId": "3a501990-8ca4-4884-bf5b-7baac8675783"
   },
   "outputs": [
    {
     "name": "stdout",
     "output_type": "stream",
     "text": [
      "La calificacion en estrellas que tendra la aplicacion sera de : 4.2\n"
     ]
    },
    {
     "name": "stderr",
     "output_type": "stream",
     "text": [
      "c:\\Users\\Ivan\\Desktop\\Proyecto - copia\\.venv\\Lib\\site-packages\\sklearn\\base.py:493: UserWarning: X does not have valid feature names, but StandardScaler was fitted with feature names\n",
      "  warnings.warn(\n",
      "c:\\Users\\Ivan\\Desktop\\Proyecto - copia\\.venv\\Lib\\site-packages\\sklearn\\base.py:493: UserWarning: X does not have valid feature names, but LinearRegression was fitted with feature names\n",
      "  warnings.warn(\n"
     ]
    }
   ],
   "source": [
    "scaler = StandardScaler() #Se escalan los valores para poder hacer predicciones\n",
    "X_train_scaled = scaler.fit_transform(X_train)\n",
    "X_test_scaled = scaler.transform(X_test)\n",
    "\n",
    "new_data = np.array([[5, 0, 2, 1]])  # Prediccion generada\n",
    "new_data_scaled = scaler.transform(new_data)  #Se escalan los datos\n",
    "predicted_class = model.predict(new_data_scaled)\n",
    "\n",
    "print(f'La calificacion en estrellas que tendra la aplicacion sera de : {predicted_class[0]:.1f}')"
   ]
  },
  {
   "cell_type": "code",
   "execution_count": 27,
   "metadata": {
    "colab": {
     "base_uri": "https://localhost:8080/"
    },
    "id": "sSmSrRm_nwa8",
    "outputId": "a26fffc3-4ae6-481f-9b3c-77fc9e229df5"
   },
   "outputs": [
    {
     "name": "stdout",
     "output_type": "stream",
     "text": [
      "La Aplicacion tendra 4.5 Estrellas estimadas\n"
     ]
    },
    {
     "name": "stderr",
     "output_type": "stream",
     "text": [
      "c:\\Users\\Ivan\\Desktop\\Proyecto - copia\\.venv\\Lib\\site-packages\\sklearn\\base.py:493: UserWarning: X does not have valid feature names, but LinearRegression was fitted with feature names\n",
      "  warnings.warn(\n",
      "c:\\Users\\Ivan\\Desktop\\Proyecto - copia\\.venv\\Lib\\site-packages\\sklearn\\base.py:493: UserWarning: X does not have valid feature names, but LinearRegression was fitted with feature names\n",
      "  warnings.warn(\n"
     ]
    }
   ],
   "source": [
    "#Se genera una consulta hipotetita para predecir el rating de la aplicacion\n",
    "pregunta = pd.DataFrame({\n",
    "    'Category': [5], #COMMUNICATION\n",
    "    'Type': [2], #Free\n",
    "    'Content Rating': [1], #Everyone 10+\n",
    "    'Genres': [1]\n",
    "\n",
    "})\n",
    "new_data_scaled = scaler.transform(pregunta)  # Asegúrate de escalar los nuevos datos\n",
    "predicted_class = model.predict(new_data_scaled)\n",
    "\n",
    "pregunta_escalada = scaler.transform(pregunta)\n",
    "\n",
    "prediccion = model.predict(pregunta_escalada)\n",
    "print(\"La Aplicacion tendra\", round(prediccion[0],1), \"Estrellas estimadas\")"
   ]
  },
  {
   "cell_type": "code",
   "execution_count": 28,
   "metadata": {
    "colab": {
     "base_uri": "https://localhost:8080/",
     "height": 206
    },
    "id": "MPgn_HJeMquJ",
    "outputId": "b124d632-7c0d-4db2-f705-6cecc1215b6a"
   },
   "outputs": [
    {
     "data": {
      "text/html": [
       "<div>\n",
       "<style scoped>\n",
       "    .dataframe tbody tr th:only-of-type {\n",
       "        vertical-align: middle;\n",
       "    }\n",
       "\n",
       "    .dataframe tbody tr th {\n",
       "        vertical-align: top;\n",
       "    }\n",
       "\n",
       "    .dataframe thead th {\n",
       "        text-align: right;\n",
       "    }\n",
       "</style>\n",
       "<table border=\"1\" class=\"dataframe\">\n",
       "  <thead>\n",
       "    <tr style=\"text-align: right;\">\n",
       "      <th></th>\n",
       "      <th>Realidad</th>\n",
       "      <th>Prediccion</th>\n",
       "    </tr>\n",
       "  </thead>\n",
       "  <tbody>\n",
       "    <tr>\n",
       "      <th>0</th>\n",
       "      <td>4.1</td>\n",
       "      <td>4.238030</td>\n",
       "    </tr>\n",
       "    <tr>\n",
       "      <th>1</th>\n",
       "      <td>3.9</td>\n",
       "      <td>4.237137</td>\n",
       "    </tr>\n",
       "    <tr>\n",
       "      <th>2</th>\n",
       "      <td>4.7</td>\n",
       "      <td>4.238030</td>\n",
       "    </tr>\n",
       "    <tr>\n",
       "      <th>3</th>\n",
       "      <td>4.5</td>\n",
       "      <td>4.260294</td>\n",
       "    </tr>\n",
       "    <tr>\n",
       "      <th>4</th>\n",
       "      <td>4.3</td>\n",
       "      <td>4.237583</td>\n",
       "    </tr>\n",
       "  </tbody>\n",
       "</table>\n",
       "</div>"
      ],
      "text/plain": [
       "   Realidad  Prediccion\n",
       "0       4.1    4.238030\n",
       "1       3.9    4.237137\n",
       "2       4.7    4.238030\n",
       "3       4.5    4.260294\n",
       "4       4.3    4.237583"
      ]
     },
     "execution_count": 28,
     "metadata": {},
     "output_type": "execute_result"
    }
   ],
   "source": [
    "prediccion_y = model.predict(X) #Generamos una lista de predicciones para compararlas con la realidad\n",
    "pd.DataFrame({'Realidad': y,\n",
    "              'Prediccion': prediccion_y}).head()"
   ]
  },
  {
   "cell_type": "code",
   "execution_count": 29,
   "metadata": {
    "colab": {
     "base_uri": "https://localhost:8080/"
    },
    "id": "uGGCLppK30pB",
    "outputId": "38052ee0-a32e-421f-a135-6390c3af5595"
   },
   "outputs": [
    {
     "name": "stdout",
     "output_type": "stream",
     "text": [
      "La eficiencia del modelo es del 90.73%\n"
     ]
    },
    {
     "name": "stderr",
     "output_type": "stream",
     "text": [
      "c:\\Users\\Ivan\\Desktop\\Proyecto - copia\\.venv\\Lib\\site-packages\\sklearn\\metrics\\cluster\\_supervised.py:66: UserWarning: Clustering metrics expects discrete values but received continuous values for label, and continuous values for target\n",
      "  warnings.warn(msg, UserWarning)\n"
     ]
    }
   ],
   "source": [
    "score = rand_score(y, prediccion_y) #Medimos la eficiencia o precision del modelo\n",
    "score_percentage = score * 100\n",
    "print(f\"La eficiencia del modelo es del {score_percentage:.2f}%\")"
   ]
  }
 ],
 "metadata": {
  "colab": {
   "provenance": []
  },
  "kernelspec": {
   "display_name": "Python 3 (ipykernel)",
   "language": "python",
   "name": "python3"
  },
  "language_info": {
   "codemirror_mode": {
    "name": "ipython",
    "version": 3
   },
   "file_extension": ".py",
   "mimetype": "text/x-python",
   "name": "python",
   "nbconvert_exporter": "python",
   "pygments_lexer": "ipython3",
   "version": "3.12.5"
  }
 },
 "nbformat": 4,
 "nbformat_minor": 4
}
